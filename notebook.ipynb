{
 "cells": [
  {
   "cell_type": "code",
   "execution_count": 38,
   "metadata": {
    "execution": {
     "iopub.execute_input": "2022-10-04T12:12:19.251716Z",
     "iopub.status.busy": "2022-10-04T12:12:19.250996Z",
     "iopub.status.idle": "2022-10-04T12:12:19.260509Z",
     "shell.execute_reply": "2022-10-04T12:12:19.258290Z",
     "shell.execute_reply.started": "2022-10-04T12:12:19.251661Z"
    },
    "id": "E-DKA-SHeIDh"
   },
   "outputs": [],
   "source": [
    "import numpy as np\n",
    "import PIL\n",
    "import matplotlib.pyplot as plt\n",
    "import os\n",
    "import math"
   ]
  },
  {
   "cell_type": "code",
   "execution_count": 4,
   "metadata": {
    "execution": {
     "iopub.execute_input": "2022-10-04T11:36:24.649176Z",
     "iopub.status.busy": "2022-10-04T11:36:24.648664Z",
     "iopub.status.idle": "2022-10-04T11:36:24.654934Z",
     "shell.execute_reply": "2022-10-04T11:36:24.653707Z",
     "shell.execute_reply.started": "2022-10-04T11:36:24.649116Z"
    },
    "id": "oWFXP51fpy64"
   },
   "outputs": [],
   "source": [
    "base_dir = \"/notebooks/TugasAkhir/Data/skin-90\""
   ]
  },
  {
   "cell_type": "markdown",
   "metadata": {},
   "source": [
    "## Load Data"
   ]
  },
  {
   "cell_type": "code",
   "execution_count": 21,
   "metadata": {
    "execution": {
     "iopub.execute_input": "2022-10-04T11:47:48.686984Z",
     "iopub.status.busy": "2022-10-04T11:47:48.686452Z",
     "iopub.status.idle": "2022-10-04T11:47:48.700158Z",
     "shell.execute_reply": "2022-10-04T11:47:48.699030Z",
     "shell.execute_reply.started": "2022-10-04T11:47:48.686945Z"
    },
    "id": "WkzO3ywtGIqY"
   },
   "outputs": [],
   "source": [
    "def load_data(directory, image_size = (256, 256)) :\n",
    "    \n",
    "    total_image = 0\n",
    "    #get folder/class name in dataset folder\n",
    "    class_name_list = [x.lower() for x in os.listdir(directory) if os.path.isdir(os.path.join(base_dir, x))]\n",
    "    for class_name in class_name_list :\n",
    "        total_image += len(os.listdir(os.path.join(base_dir,class_name)))\n",
    "    \n",
    "    stack_of_image = np.empty((total_image,image_size[0],image_size[1],3), dtype = np.uint8)\n",
    "    stack_of_label = np.empty(total_image, dtype = \"S{}\".format(len(max(class_name_list))))\n",
    "\n",
    "    # Read Image and Class then append to array\n",
    "    temp = total_image \n",
    "    for class_name in class_name_list :\n",
    "        image_class_path = os.path.join(directory, class_name)\n",
    "        for image_name in os.listdir(image_class_path) :\n",
    "            image_path = os.path.join(image_class_path,image_name)\n",
    "            \n",
    "            # Open Image \n",
    "            image = PIL.Image.open(image_path)\n",
    "            \n",
    "            # Convert Image to RGB\n",
    "            image = image.convert(\"RGB\")\n",
    "            \n",
    "            # Resize             \n",
    "            image = image.resize(image_size, resample = PIL.Image.Resampling.BICUBIC)\n",
    "            \n",
    "            #Get Array Of the Image\n",
    "            image_array = np.array(image)\n",
    "            \n",
    "            #Append to Array\n",
    "            stack_of_image[total_image-temp] = image_array\n",
    "            stack_of_label[total_image-temp] = class_name\n",
    "            temp -= 1\n",
    "            \n",
    "    return stack_of_image,stack_of_label\n"
   ]
  },
  {
   "cell_type": "code",
   "execution_count": 22,
   "metadata": {
    "colab": {
     "base_uri": "https://localhost:8080/",
     "height": 304
    },
    "execution": {
     "iopub.execute_input": "2022-10-04T11:47:49.155411Z",
     "iopub.status.busy": "2022-10-04T11:47:49.154326Z",
     "iopub.status.idle": "2022-10-04T11:47:51.354767Z",
     "shell.execute_reply": "2022-10-04T11:47:51.353507Z",
     "shell.execute_reply.started": "2022-10-04T11:47:49.155358Z"
    },
    "executionInfo": {
     "elapsed": 2815,
     "status": "error",
     "timestamp": 1663407471304,
     "user": {
      "displayName": "Riyan Sthefanus Nainggolan",
      "userId": "11696178297223209583"
     },
     "user_tz": -420
    },
    "id": "Ld0IyrynGrbD",
    "outputId": "eed77f54-e98d-4f2c-fe89-3792dd0e0d45"
   },
   "outputs": [],
   "source": [
    "(X, y) = load_data(base_dir)"
   ]
  },
  {
   "cell_type": "markdown",
   "metadata": {},
   "source": [
    "## Train Test Split"
   ]
  },
  {
   "cell_type": "code",
   "execution_count": 61,
   "metadata": {
    "execution": {
     "iopub.execute_input": "2022-10-04T12:49:38.823178Z",
     "iopub.status.busy": "2022-10-04T12:49:38.822789Z",
     "iopub.status.idle": "2022-10-04T12:49:38.830186Z",
     "shell.execute_reply": "2022-10-04T12:49:38.829763Z",
     "shell.execute_reply.started": "2022-10-04T12:49:38.823150Z"
    }
   },
   "outputs": [],
   "source": [
    "def train_test_split(X,y, test_size= 0.2):\n",
    "    train_index = []\n",
    "    class_name, start_index_class,  count_each_class = np.unique(y, return_index = True,return_counts = True)\n",
    "    \n",
    "    train_size= 1-test_size\n",
    "    \n",
    "    num_of_train = math.ceil(np.min(count_each_class) * train_size)\n",
    "    \n",
    "    for start_index in start_index_class :\n",
    "        train_index += [*range(start_index, start_index+num_of_train)]\n",
    "    \n",
    "    test_index = [x for x in range(0,len(y)) if x not in train_index]\n",
    "    \n",
    "    # Shuffle the index so the array not sorted by label\n",
    "    np.random.shuffle(train_index)\n",
    "    np.random.shuffle(test_index)\n",
    "    \n",
    "    return X[train_index], X[test_index], y[train_index], y[test_index]\n",
    "    \n",
    "    "
   ]
  },
  {
   "cell_type": "code",
   "execution_count": 59,
   "metadata": {
    "execution": {
     "iopub.execute_input": "2022-10-04T12:49:34.554802Z",
     "iopub.status.busy": "2022-10-04T12:49:34.554301Z",
     "iopub.status.idle": "2022-10-04T12:49:34.596061Z",
     "shell.execute_reply": "2022-10-04T12:49:34.594612Z",
     "shell.execute_reply.started": "2022-10-04T12:49:34.554762Z"
    }
   },
   "outputs": [],
   "source": [
    "X_train,X_test,y_train, y_test = train_test_split(X,y)"
   ]
  },
  {
   "cell_type": "markdown",
   "metadata": {},
   "source": [
    "## Modeling with Keras"
   ]
  },
  {
   "cell_type": "code",
   "execution_count": null,
   "metadata": {},
   "outputs": [],
   "source": [
    "import tensorflow as tf\n",
    "from tensorflow.keras.preprocessing.image import ImageDataGenerator\n",
    "\n",
    "datagen = ImageDataGenerator(\n",
    "    rescale = 1./255,\n",
    "    horizontal_flip = True,\n",
    "    rotation_range = 30,\n",
    "    zoom_range = 0.3,\n",
    "    validation_split = 0.2)"
   ]
  },
  {
   "cell_type": "code",
   "execution_count": 1,
   "metadata": {},
   "outputs": [
    {
     "ename": "NameError",
     "evalue": "name 'tf' is not defined",
     "output_type": "error",
     "traceback": [
      "\u001b[1;31m---------------------------------------------------------------------------\u001b[0m",
      "\u001b[1;31mNameError\u001b[0m                                 Traceback (most recent call last)",
      "\u001b[1;32m<ipython-input-1-90bf540ccf35>\u001b[0m in \u001b[0;36m<module>\u001b[1;34m\u001b[0m\n\u001b[1;32m----> 1\u001b[1;33m model = tf.keras.models.Sequential([\n\u001b[0m\u001b[0;32m      2\u001b[0m     \u001b[0mtf\u001b[0m\u001b[1;33m.\u001b[0m\u001b[0mkeras\u001b[0m\u001b[1;33m.\u001b[0m\u001b[0mlayers\u001b[0m\u001b[1;33m.\u001b[0m\u001b[0mConv2D\u001b[0m\u001b[1;33m(\u001b[0m\u001b[1;36m256\u001b[0m\u001b[1;33m,\u001b[0m \u001b[1;33m(\u001b[0m\u001b[1;36m3\u001b[0m\u001b[1;33m,\u001b[0m\u001b[1;36m3\u001b[0m\u001b[1;33m)\u001b[0m\u001b[1;33m,\u001b[0m \u001b[0mactivation\u001b[0m\u001b[1;33m=\u001b[0m\u001b[1;34m'relu'\u001b[0m\u001b[1;33m,\u001b[0m \u001b[0minput_shape\u001b[0m\u001b[1;33m=\u001b[0m\u001b[1;33m(\u001b[0m\u001b[1;36m256\u001b[0m\u001b[1;33m,\u001b[0m \u001b[1;36m256\u001b[0m\u001b[1;33m,\u001b[0m \u001b[1;36m3\u001b[0m\u001b[1;33m)\u001b[0m\u001b[1;33m)\u001b[0m\u001b[1;33m,\u001b[0m\u001b[1;33m\u001b[0m\u001b[1;33m\u001b[0m\u001b[0m\n\u001b[0;32m      3\u001b[0m     \u001b[0mtf\u001b[0m\u001b[1;33m.\u001b[0m\u001b[0mkeras\u001b[0m\u001b[1;33m.\u001b[0m\u001b[0mlayers\u001b[0m\u001b[1;33m.\u001b[0m\u001b[0mMaxPooling2D\u001b[0m\u001b[1;33m(\u001b[0m\u001b[1;36m2\u001b[0m\u001b[1;33m,\u001b[0m \u001b[1;36m2\u001b[0m\u001b[1;33m)\u001b[0m\u001b[1;33m,\u001b[0m\u001b[1;33m\u001b[0m\u001b[1;33m\u001b[0m\u001b[0m\n\u001b[0;32m      4\u001b[0m     \u001b[0mtf\u001b[0m\u001b[1;33m.\u001b[0m\u001b[0mkeras\u001b[0m\u001b[1;33m.\u001b[0m\u001b[0mlayers\u001b[0m\u001b[1;33m.\u001b[0m\u001b[0mFlatten\u001b[0m\u001b[1;33m(\u001b[0m\u001b[1;33m)\u001b[0m\u001b[1;33m,\u001b[0m\u001b[1;33m\u001b[0m\u001b[1;33m\u001b[0m\u001b[0m\n\u001b[0;32m      5\u001b[0m     \u001b[0mtf\u001b[0m\u001b[1;33m.\u001b[0m\u001b[0mkeras\u001b[0m\u001b[1;33m.\u001b[0m\u001b[0mlayers\u001b[0m\u001b[1;33m.\u001b[0m\u001b[0mDense\u001b[0m\u001b[1;33m(\u001b[0m\u001b[1;36m64\u001b[0m\u001b[1;33m,\u001b[0m \u001b[0mactivation\u001b[0m\u001b[1;33m=\u001b[0m\u001b[1;34m'relu'\u001b[0m\u001b[1;33m)\u001b[0m\u001b[1;33m,\u001b[0m\u001b[1;33m\u001b[0m\u001b[1;33m\u001b[0m\u001b[0m\n",
      "\u001b[1;31mNameError\u001b[0m: name 'tf' is not defined"
     ]
    }
   ],
   "source": [
    "model = tf.keras.models.Sequential([\n",
    "    tf.keras.layers.Conv2D(256, (3,3), activation='relu', input_shape=(256, 256, 3)),\n",
    "    tf.keras.layers.MaxPooling2D(2, 2),\n",
    "    tf.keras.layers.Flatten(),\n",
    "    tf.keras.layers.Dense(64, activation='relu'),\n",
    "    tf.keras.layers.Dense(5, activation='softmax')\n",
    "])"
   ]
  },
  {
   "cell_type": "code",
   "execution_count": null,
   "metadata": {},
   "outputs": [],
   "source": [
    "model.compile(loss='sparse_categorical_crossentropy',\n",
    "              optimizer=\"adam\",\n",
    "              metrics=['accuracy'])"
   ]
  },
  {
   "cell_type": "code",
   "execution_count": null,
   "metadata": {},
   "outputs": [],
   "source": [
    "history = model.fit(datagen.flow(X_train, y_train,subset='training',batch_size = 128),\n",
    "         validation_data=datagen.flow(X_train, y_train, subset='validation',batch_size = 1),epochs=10)"
   ]
  }
 ],
 "metadata": {
  "colab": {
   "authorship_tag": "ABX9TyPK2W7cgAieenp8AJSr2MhZ",
   "collapsed_sections": [],
   "provenance": [],
   "toc_visible": true
  },
  "kernelspec": {
   "display_name": "Python 3.9.13 64-bit",
   "language": "python",
   "name": "python3"
  },
  "language_info": {
   "codemirror_mode": {
    "name": "ipython",
    "version": 3
   },
   "file_extension": ".py",
   "mimetype": "text/x-python",
   "name": "python",
   "nbconvert_exporter": "python",
   "pygments_lexer": "ipython3",
   "version": "3.9.13"
  },
  "vscode": {
   "interpreter": {
    "hash": "1366364e713644f841bea313cb18f744a0ebaaa298d6a31cfe150f1f10f27cac"
   }
  }
 },
 "nbformat": 4,
 "nbformat_minor": 4
}
