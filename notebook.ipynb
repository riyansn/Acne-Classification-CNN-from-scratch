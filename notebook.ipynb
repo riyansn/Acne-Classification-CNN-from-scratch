{
 "cells": [
  {
   "cell_type": "code",
   "execution_count": 38,
   "metadata": {
    "execution": {
     "iopub.execute_input": "2022-10-04T12:12:19.251716Z",
     "iopub.status.busy": "2022-10-04T12:12:19.250996Z",
     "iopub.status.idle": "2022-10-04T12:12:19.260509Z",
     "shell.execute_reply": "2022-10-04T12:12:19.258290Z",
     "shell.execute_reply.started": "2022-10-04T12:12:19.251661Z"
    },
    "id": "E-DKA-SHeIDh"
   },
   "outputs": [],
   "source": [
    "import numpy as np\n",
    "import PIL\n",
    "import matplotlib.pyplot as plt\n",
    "import os\n",
    "import math"
   ]
  },
  {
   "cell_type": "code",
   "execution_count": 4,
   "metadata": {
    "execution": {
     "iopub.execute_input": "2022-10-04T11:36:24.649176Z",
     "iopub.status.busy": "2022-10-04T11:36:24.648664Z",
     "iopub.status.idle": "2022-10-04T11:36:24.654934Z",
     "shell.execute_reply": "2022-10-04T11:36:24.653707Z",
     "shell.execute_reply.started": "2022-10-04T11:36:24.649116Z"
    },
    "id": "oWFXP51fpy64"
   },
   "outputs": [],
   "source": [
    "base_dir = \"/notebooks/TugasAkhir/Data/skin-90\""
   ]
  },
  {
   "cell_type": "markdown",
   "metadata": {},
   "source": [
    "## Load Data"
   ]
  },
  {
   "cell_type": "code",
   "execution_count": 21,
   "metadata": {
    "execution": {
     "iopub.execute_input": "2022-10-04T11:47:48.686984Z",
     "iopub.status.busy": "2022-10-04T11:47:48.686452Z",
     "iopub.status.idle": "2022-10-04T11:47:48.700158Z",
     "shell.execute_reply": "2022-10-04T11:47:48.699030Z",
     "shell.execute_reply.started": "2022-10-04T11:47:48.686945Z"
    },
    "id": "WkzO3ywtGIqY"
   },
   "outputs": [],
   "source": [
    "def load_data(directory, image_size = (256, 256)) :\n",
    "    \n",
    "    total_image = 0\n",
    "    #get folder/class name in dataset folder\n",
    "    class_name_list = [x.lower() for x in os.listdir(directory) if os.path.isdir(os.path.join(base_dir, x))]\n",
    "    for class_name in class_name_list :\n",
    "        total_image += len(os.listdir(os.path.join(base_dir,class_name)))\n",
    "    \n",
    "    stack_of_image = np.empty((total_image,image_size[0],image_size[1],3), dtype = np.uint8)\n",
    "    stack_of_label = np.empty(total_image, dtype = \"S{}\".format(len(max(class_name_list))))\n",
    "\n",
    "    # Read Image and Class then append to array\n",
    "    temp = total_image \n",
    "    for class_name in class_name_list :\n",
    "        image_class_path = os.path.join(directory, class_name)\n",
    "        for image_name in os.listdir(image_class_path) :\n",
    "            image_path = os.path.join(image_class_path,image_name)\n",
    "            \n",
    "            # Open Image \n",
    "            image = PIL.Image.open(image_path)\n",
    "            \n",
    "            # Convert Image to RGB\n",
    "            image = image.convert(\"RGB\")\n",
    "            \n",
    "            # Resize             \n",
    "            image = image.resize(image_size, resample = PIL.Image.Resampling.BICUBIC)\n",
    "            \n",
    "            #Get Array Of the Image\n",
    "            image_array = np.array(image)\n",
    "            \n",
    "            #Append to Array\n",
    "            stack_of_image[total_image-temp] = image_array\n",
    "            stack_of_label[total_image-temp] = class_name\n",
    "            temp -= 1\n",
    "            \n",
    "    return stack_of_image,stack_of_label\n"
   ]
  },
  {
   "cell_type": "code",
   "execution_count": 22,
   "metadata": {
    "colab": {
     "base_uri": "https://localhost:8080/",
     "height": 304
    },
    "execution": {
     "iopub.execute_input": "2022-10-04T11:47:49.155411Z",
     "iopub.status.busy": "2022-10-04T11:47:49.154326Z",
     "iopub.status.idle": "2022-10-04T11:47:51.354767Z",
     "shell.execute_reply": "2022-10-04T11:47:51.353507Z",
     "shell.execute_reply.started": "2022-10-04T11:47:49.155358Z"
    },
    "executionInfo": {
     "elapsed": 2815,
     "status": "error",
     "timestamp": 1663407471304,
     "user": {
      "displayName": "Riyan Sthefanus Nainggolan",
      "userId": "11696178297223209583"
     },
     "user_tz": -420
    },
    "id": "Ld0IyrynGrbD",
    "outputId": "eed77f54-e98d-4f2c-fe89-3792dd0e0d45"
   },
   "outputs": [],
   "source": [
    "(X, y) = load_data(base_dir)"
   ]
  },
  {
   "cell_type": "markdown",
   "metadata": {},
   "source": [
    "## Train Test Split"
   ]
  },
  {
   "cell_type": "code",
   "execution_count": 61,
   "metadata": {
    "execution": {
     "iopub.execute_input": "2022-10-04T12:49:38.823178Z",
     "iopub.status.busy": "2022-10-04T12:49:38.822789Z",
     "iopub.status.idle": "2022-10-04T12:49:38.830186Z",
     "shell.execute_reply": "2022-10-04T12:49:38.829763Z",
     "shell.execute_reply.started": "2022-10-04T12:49:38.823150Z"
    }
   },
   "outputs": [],
   "source": [
    "def train_test_split(X,y, test_size= 0.2):\n",
    "    train_index = []\n",
    "    class_name, start_index_class,  count_each_class = np.unique(y, return_index = True,return_counts = True)\n",
    "    \n",
    "    train_size= 1-test_size\n",
    "    \n",
    "    num_of_train = math.ceil(np.min(count_each_class) * train_size)\n",
    "    \n",
    "    for start_index in start_index_class :\n",
    "        train_index += [*range(start_index, start_index+num_of_train)]\n",
    "    \n",
    "    test_index = [x for x in range(0,len(y)) if x not in train_index]\n",
    "    \n",
    "    return X[train_index], X[test_index], y[train_index], y[test_index]\n",
    "    \n",
    "    "
   ]
  },
  {
   "cell_type": "code",
   "execution_count": 59,
   "metadata": {
    "execution": {
     "iopub.execute_input": "2022-10-04T12:49:34.554802Z",
     "iopub.status.busy": "2022-10-04T12:49:34.554301Z",
     "iopub.status.idle": "2022-10-04T12:49:34.596061Z",
     "shell.execute_reply": "2022-10-04T12:49:34.594612Z",
     "shell.execute_reply.started": "2022-10-04T12:49:34.554762Z"
    }
   },
   "outputs": [],
   "source": [
    "X_train,X_test,y_train, y_test = train_test_split(X,y)"
   ]
  },
  {
   "cell_type": "code",
   "execution_count": null,
   "metadata": {},
   "outputs": [],
   "source": []
  }
 ],
 "metadata": {
  "colab": {
   "authorship_tag": "ABX9TyPK2W7cgAieenp8AJSr2MhZ",
   "collapsed_sections": [],
   "provenance": [],
   "toc_visible": true
  },
  "kernelspec": {
   "display_name": "Python 3 (ipykernel)",
   "language": "python",
   "name": "python3"
  },
  "language_info": {
   "codemirror_mode": {
    "name": "ipython",
    "version": 3
   },
   "file_extension": ".py",
   "mimetype": "text/x-python",
   "name": "python",
   "nbconvert_exporter": "python",
   "pygments_lexer": "ipython3",
   "version": "3.9.13"
  }
 },
 "nbformat": 4,
 "nbformat_minor": 4
}
